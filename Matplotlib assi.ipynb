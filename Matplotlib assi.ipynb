{
 "cells": [
  {
   "cell_type": "code",
   "execution_count": 1,
   "id": "d16532bd-1867-47c4-a274-3a5b1f30a0b7",
   "metadata": {},
   "outputs": [],
   "source": [
    "import numpy as np"
   ]
  },
  {
   "cell_type": "code",
   "execution_count": 2,
   "id": "9a26a038-2f70-434e-b6e5-518cb3eef2ee",
   "metadata": {},
   "outputs": [],
   "source": [
    "import matplotlib.pyplot as plt"
   ]
  },
  {
   "cell_type": "markdown",
   "id": "7be9e9c4-a357-4c60-bb40-e615be4f4bb8",
   "metadata": {},
   "source": [
    "Q1: What is Matplotlib? Why is it used? Name five plots that can be plotted using the Pyplot module of\n",
    "Matplotlib."
   ]
  },
  {
   "cell_type": "markdown",
   "id": "37afa18a-e6b7-41b4-8feb-03aec7b1ad24",
   "metadata": {},
   "source": [
    "Matplotlib is a comprehensive library for creating static, animated, and interactive visualizations in Python."
   ]
  },
  {
   "cell_type": "markdown",
   "id": "ca8eec9c-f3d8-4a24-90c2-31c6e619baab",
   "metadata": {},
   "source": [
    "plot,scattred,bar,barh,hist"
   ]
  },
  {
   "cell_type": "markdown",
   "id": "70384faf-8d55-4f43-ba9d-6a1e917ef2a0",
   "metadata": {},
   "source": [
    "Q2: What is a scatter plot? Use the following code to generate data for x and y. Using this generated data\n",
    "plot a scatter plot."
   ]
  },
  {
   "cell_type": "markdown",
   "id": "135c6fad-9edc-4055-a2ed-d928888295c4",
   "metadata": {},
   "source": [
    "Matplotlib is a comprehensive library for creating static, animated, and interactive visualizations in Python."
   ]
  },
  {
   "cell_type": "code",
   "execution_count": 3,
   "id": "73ac9d9d-122c-4e8a-9935-2e24703693ca",
   "metadata": {},
   "outputs": [],
   "source": [
    "np.random.seed(3)"
   ]
  },
  {
   "cell_type": "code",
   "execution_count": 4,
   "id": "42c95867-659a-4408-8777-cc548d2f2b2a",
   "metadata": {},
   "outputs": [],
   "source": [
    "x = 3 + np.random.normal(0, 2, 50)"
   ]
  },
  {
   "cell_type": "code",
   "execution_count": 5,
   "id": "a50335d9-6cc2-43ca-b1e7-a2a36c8084d9",
   "metadata": {},
   "outputs": [],
   "source": [
    "y = 3 + np.random.normal(0, 2, len(x))"
   ]
  },
  {
   "cell_type": "code",
   "execution_count": 6,
   "id": "d64fb29c-3e88-47d1-a593-b3da146f17e0",
   "metadata": {},
   "outputs": [
    {
     "data": {
      "text/plain": [
       "array([ 6.57725695,  3.8730197 ,  3.19299494, -0.72698541,  2.44522359,\n",
       "        2.29048204,  2.83451704,  1.74599865,  2.91236366,  2.04556394,\n",
       "        0.37227049,  4.76924476,  4.76263608,  6.41914613,  3.10006728,\n",
       "        2.19064517,  1.9092801 , -0.09295463,  4.96473487,  0.79786474,\n",
       "        0.62990695,  2.5887002 ,  5.97229671,  3.47343253,  0.95242972,\n",
       "        1.5740136 ,  4.25048993,  2.67897327,  1.4623273 ,  2.53993856,\n",
       "        4.49011253,  6.95222157,  0.51175334,  1.74716618,  1.39246781,\n",
       "       -1.83816635,  1.15241596,  0.95224848,  5.24795592,  2.73617153,\n",
       "       -0.24657089,  4.2933509 ,  2.28745848, -0.48628207,  1.80670072,\n",
       "        1.82281124,  1.2522354 ,  3.05942763, -1.49651554,  2.46447627])"
      ]
     },
     "execution_count": 6,
     "metadata": {},
     "output_type": "execute_result"
    }
   ],
   "source": [
    "x"
   ]
  },
  {
   "cell_type": "code",
   "execution_count": 7,
   "id": "a8f37b76-24f9-48da-befe-385393292f21",
   "metadata": {},
   "outputs": [
    {
     "data": {
      "text/plain": [
       "array([ 5.02636688,  4.70559568,  5.216375  ,  5.23878131,  5.97508626,\n",
       "        0.76339863,  4.69166681, -0.72177906,  1.79422979, -0.82894409,\n",
       "        5.09629502,  5.66747564,  2.60517064,  6.54929006,  1.65054498,\n",
       "        3.30123373,  3.30589141,  0.87160945,  3.87589322,  6.87795692,\n",
       "        0.95013825,  4.79867689,  2.6909863 ,  6.53925461,  3.9675767 ,\n",
       "        4.3524328 ,  4.28632656,  3.49817341,  0.20847299,  5.78332582,\n",
       "        0.25866197,  3.47712638,  4.22815418,  1.32417545,  3.29012643,\n",
       "        5.33576457,  2.95179106,  1.22268516, -2.8314755 ,  1.05631899,\n",
       "        1.81784252,  1.96716526,  1.08000764,  3.75459047,  1.85058316,\n",
       "        2.78109133,  4.3581432 ,  1.28912566,  2.39958785,  7.31629868])"
      ]
     },
     "execution_count": 7,
     "metadata": {},
     "output_type": "execute_result"
    }
   ],
   "source": [
    "y"
   ]
  },
  {
   "cell_type": "code",
   "execution_count": 9,
   "id": "c20bea16-2a52-411e-9818-5d65ce1ba5f0",
   "metadata": {},
   "outputs": [
    {
     "data": {
      "text/plain": [
       "Text(0.5, 1.0, 'this is my title')"
      ]
     },
     "execution_count": 9,
     "metadata": {},
     "output_type": "execute_result"
    },
    {
     "data": {
      "image/png": "[encoded data removed]",
      "text/plain": [
       "<Figure size 640x480 with 1 Axes>"
      ]
     },
     "metadata": {},
     "output_type": "display_data"
    }
   ],
   "source": [
    "plt.scatter(x,y)\n",
    "plt.xlabel(\"tthis is x axis\")\n",
    "plt.ylabel(\"this is y axis\")\n",
    "plt.title(\"this is my title\")"
   ]
  },
  {
   "cell_type": "markdown",
   "id": "2411ad22-11f1-4a24-9ff1-7f70f9a73205",
   "metadata": {},
   "source": [
    "Q3: Why is the subplot() function used? Draw four line plots using the subplot() function.\n",
    "Use the following data:"
   ]
  },
  {
   "cell_type": "markdown",
   "id": "02854ee7-0fa3-4229-aad8-ff82c2e07316",
   "metadata": {},
   "source": [
    "The subplot() function in MATLAB/Octave allows you to insert multiple plots on a grid within a single figure. "
   ]
  },
  {
   "cell_type": "code",
   "execution_count": 6,
   "id": "1917e457-4f06-4619-b492-a54e84e7cc71",
   "metadata": {},
   "outputs": [],
   "source": [
    "x = np.array([0, 1, 2, 3, 4, 5])"
   ]
  },
  {
   "cell_type": "code",
   "execution_count": 7,
   "id": "e3021e43-510b-49df-8a7d-db2b08260fc6",
   "metadata": {},
   "outputs": [],
   "source": [
    " y = np.array([0, 100, 200, 300, 400, 500])"
   ]
  },
  {
   "cell_type": "code",
   "execution_count": 8,
   "id": "8e0c1d14-5c99-466e-b27a-f50595dae387",
   "metadata": {},
   "outputs": [
    {
     "data": {
      "text/plain": [
       "array([0, 1, 2, 3, 4, 5])"
      ]
     },
     "execution_count": 8,
     "metadata": {},
     "output_type": "execute_result"
    }
   ],
   "source": [
    "x"
   ]
  },
  {
   "cell_type": "code",
   "execution_count": 9,
   "id": "26af52cd-5fb9-4819-bc35-c239fe984efa",
   "metadata": {},
   "outputs": [
    {
     "data": {
      "text/plain": [
       "array([  0, 100, 200, 300, 400, 500])"
      ]
     },
     "execution_count": 9,
     "metadata": {},
     "output_type": "execute_result"
    }
   ],
   "source": [
    "y"
   ]
  },
  {
   "cell_type": "code",
   "execution_count": 15,
   "id": "d4bc1896-7823-4694-96da-d66df74e3edf",
   "metadata": {},
   "outputs": [],
   "source": [
    "x1 = np.array([0, 1, 2, 3, 4, 5])"
   ]
  },
  {
   "cell_type": "code",
   "execution_count": 16,
   "id": "d51abfc3-ed99-4d91-b751-4225c5f964d8",
   "metadata": {},
   "outputs": [],
   "source": [
    "y1 = np.array([50, 20, 40, 20, 60, 70])"
   ]
  },
  {
   "cell_type": "code",
   "execution_count": 17,
   "id": "9a560cec-9308-4ec8-a65d-f67134e8d965",
   "metadata": {},
   "outputs": [
    {
     "data": {
      "text/plain": [
       "array([0, 1, 2, 3, 4, 5])"
      ]
     },
     "execution_count": 17,
     "metadata": {},
     "output_type": "execute_result"
    }
   ],
   "source": [
    "x1"
   ]
  },
  {
   "cell_type": "code",
   "execution_count": 18,
   "id": "b249fc86-b3df-4cc3-a9cf-2d68b95c3565",
   "metadata": {},
   "outputs": [
    {
     "data": {
      "text/plain": [
       "array([50, 20, 40, 20, 60, 70])"
      ]
     },
     "execution_count": 18,
     "metadata": {},
     "output_type": "execute_result"
    }
   ],
   "source": [
    "y1"
   ]
  },
  {
   "cell_type": "code",
   "execution_count": 20,
   "id": "de971800-98de-46f8-9054-39f5e3e40fb9",
   "metadata": {},
   "outputs": [
    {
     "data": {
      "text/plain": [
       "<AxesSubplot: >"
      ]
     },
     "execution_count": 20,
     "metadata": {},
     "output_type": "execute_result"
    },
    {
     "data": {
      "image/png": "[encoded data removed]",
      "text/plain": [
       "<Figure size 640x480 with 1 Axes>"
      ]
     },
     "metadata": {},
     "output_type": "display_data"
    }
   ],
   "source": [
    "plt.subplot(3,2,1)"
   ]
  },
  {
   "cell_type": "code",
   "execution_count": 22,
   "id": "a3ccb2df-aac9-4722-8b6f-f07e00d9bc1c",
   "metadata": {},
   "outputs": [
    {
     "data": {
      "text/plain": [
       "[<matplotlib.lines.Line2D at 0x7f24424c56c0>,\n",
       " <matplotlib.lines.Line2D at 0x7f24424c5720>]"
      ]
     },
     "execution_count": 22,
     "metadata": {},
     "output_type": "execute_result"
    },
    {
     "data": {
      "image/png": "[encoded data removed]",
      "text/plain": [
       "<Figure size 640x480 with 1 Axes>"
      ]
     },
     "metadata": {},
     "output_type": "display_data"
    }
   ],
   "source": [
    "plt.plot(x1,y1,x,y)"
   ]
  },
  {
   "cell_type": "markdown",
   "id": "9ba585b1-6f00-4048-95c1-b268c7890b98",
   "metadata": {},
   "source": [
    "Q4: What is a bar plot? Why is it used? Using the following data plot a bar plot and a horizontal bar plot."
   ]
  },
  {
   "cell_type": "markdown",
   "id": "71456fe1-e28b-49e5-9165-bbced1882305",
   "metadata": {},
   "source": [
    "bar plot is used to plot of bars using given data"
   ]
  },
  {
   "cell_type": "code",
   "execution_count": 23,
   "id": "a7523938-52ed-4d08-a50b-ddbd21239c30",
   "metadata": {},
   "outputs": [],
   "source": [
    "company = np.array([\"Apple\", \"Microsoft\", \"Google\", \"AMD\"])"
   ]
  },
  {
   "cell_type": "code",
   "execution_count": 24,
   "id": "f1574922-3c7a-4cd0-a7e0-2c7e50bdf999",
   "metadata": {},
   "outputs": [],
   "source": [
    "profit = np.array([3000, 8000, 1000, 10000])"
   ]
  },
  {
   "cell_type": "code",
   "execution_count": 25,
   "id": "cc81fd36-84c2-4ad3-83ab-3bf5731b12ee",
   "metadata": {},
   "outputs": [
    {
     "data": {
      "text/plain": [
       "array(['Apple', 'Microsoft', 'Google', 'AMD'], dtype='<U9')"
      ]
     },
     "execution_count": 25,
     "metadata": {},
     "output_type": "execute_result"
    }
   ],
   "source": [
    "company"
   ]
  },
  {
   "cell_type": "code",
   "execution_count": 26,
   "id": "07a5a73a-1cf3-4ea1-8d3e-99eb234ddcde",
   "metadata": {},
   "outputs": [
    {
     "data": {
      "text/plain": [
       "array([ 3000,  8000,  1000, 10000])"
      ]
     },
     "execution_count": 26,
     "metadata": {},
     "output_type": "execute_result"
    }
   ],
   "source": [
    "profit"
   ]
  },
  {
   "cell_type": "code",
   "execution_count": 28,
   "id": "2e11d35f-6a6d-4be5-851d-3c7adcc3b3b4",
   "metadata": {},
   "outputs": [
    {
     "data": {
      "text/plain": [
       "<BarContainer object of 4 artists>"
      ]
     },
     "execution_count": 28,
     "metadata": {},
     "output_type": "execute_result"
    },
    {
     "data": {
      "image/png": "[encoded data removed]",
      "text/plain": [
       "<Figure size 640x480 with 1 Axes>"
      ]
     },
     "metadata": {},
     "output_type": "display_data"
    }
   ],
   "source": [
    "plt.bar(company,profit)"
   ]
  },
  {
   "cell_type": "code",
   "execution_count": 29,
   "id": "8e211120-481e-4195-85a2-be0c3c6080b4",
   "metadata": {},
   "outputs": [
    {
     "data": {
      "text/plain": [
       "<BarContainer object of 4 artists>"
      ]
     },
     "execution_count": 29,
     "metadata": {},
     "output_type": "execute_result"
    },
    {
     "data": {
      "image/png": "[encoded data removed]",
      "text/plain": [
       "<Figure size 640x480 with 1 Axes>"
      ]
     },
     "metadata": {},
     "output_type": "display_data"
    }
   ],
   "source": [
    "plt.barh(company,profit)"
   ]
  },
  {
   "cell_type": "markdown",
   "id": "d30c995b-467e-494b-a933-919c7cb07d1d",
   "metadata": {},
   "source": [
    "Q5: What is a box plot? Why is it used? Using the following data plot a box plot."
   ]
  },
  {
   "cell_type": "code",
   "execution_count": 30,
   "id": "b7a1f959-a2be-4544-8d02-584642dded00",
   "metadata": {},
   "outputs": [],
   "source": [
    "box1 = np.random.normal(100, 10, 200)"
   ]
  },
  {
   "cell_type": "code",
   "execution_count": 31,
   "id": "b49227a0-5858-44eb-b44b-9f20100e43d0",
   "metadata": {},
   "outputs": [],
   "source": [
    "box2 = np.random.normal(90, 20, 200)"
   ]
  },
  {
   "cell_type": "code",
   "execution_count": 32,
   "id": "caeaf000-216f-4075-9c16-4a0185a9dc7e",
   "metadata": {},
   "outputs": [
    {
     "data": {
      "text/plain": [
       "array([105.16792248, 101.11687646, 110.61848094, 107.90776429,\n",
       "       113.14675592,  82.02706297, 103.40263929, 106.05185244,\n",
       "       120.32048829, 106.53776279, 103.94730874, 105.59642976,\n",
       "        88.92348566, 113.43242362,  83.98192075, 108.91364631,\n",
       "       113.15260317,  99.45268069, 116.23700994, 103.37814541,\n",
       "        79.46261274, 107.54789526, 112.29392176, 113.57485799,\n",
       "       101.63743316, 111.45690833,  96.09086729, 111.00214057,\n",
       "       113.88459443, 102.68935219, 100.70611575, 104.63167992,\n",
       "       103.77523258, 104.2316494 , 110.96436866,  99.4273463 ,\n",
       "        86.33866383, 111.42689605, 107.68752599, 100.76136889,\n",
       "        93.50284424,  94.76212257, 103.92350266,  83.40574272,\n",
       "       101.00548559, 117.21380295, 101.26973611,  93.45353022,\n",
       "       109.80859586, 105.34371743,  95.96516089, 100.69355461,\n",
       "        94.93035792, 118.99848907,  95.48219704,  73.87328704,\n",
       "        96.65839215,  94.05730737, 106.88283125,  94.86020801,\n",
       "        89.78606764, 102.73632274, 103.23825834,  94.18595039,\n",
       "       102.69587162, 103.89872043, 109.09745081, 108.34869238,\n",
       "       116.4299033 , 105.72750144,  91.67176024,  96.51254354,\n",
       "        92.57086181,  92.70023886,  96.01527848, 106.01022726,\n",
       "        99.63727265, 118.96197929, 100.06001872,  77.41908774,\n",
       "        87.97505458, 102.66437324,  83.78935748,  91.44469729,\n",
       "       105.8834791 , 103.33242602,  81.49033763,  94.39085971,\n",
       "       108.30670571,  82.91010196, 107.54735107,  90.73417148,\n",
       "       100.14192238,  97.92290984,  93.07350807,  93.97859496,\n",
       "        97.10624957,  97.88478348,  98.24054765,  99.39886604,\n",
       "        97.83257358,  98.66682444, 115.69770126, 104.29359388,\n",
       "       116.60898782,  91.48092087, 113.23216202, 108.99640465,\n",
       "        83.88507716,  99.13154636, 114.35881285,  99.08392456,\n",
       "        90.62993328,  90.94947141, 107.04513165, 100.49875899,\n",
       "       116.47381168, 114.39448234, 109.11616393,  97.8524309 ,\n",
       "        99.84259442,  96.06144611,  81.15516307,  81.87100915,\n",
       "       103.89613542, 113.44193092, 118.05254079, 108.39640255,\n",
       "       127.49905379, 120.50389536,  98.20831201,  99.74487072,\n",
       "        98.21401526,  98.3553867 , 101.6610375 , 109.74769222,\n",
       "       101.86078796,  83.71807822, 104.26162539,  99.38175517,\n",
       "        94.38854266,  98.34641704,  71.09407881,  86.96180683,\n",
       "        90.72360454, 111.76242896,  97.74700409, 108.97485947,\n",
       "       122.48370359, 102.4901737 ,  87.80757525,  98.0636921 ,\n",
       "       107.15169948,  70.76637018, 104.60585769,  98.98282872,\n",
       "       104.53480029, 105.03755226,  96.90059878, 103.53862338,\n",
       "       103.63569721,  96.71439773, 103.15890022, 115.99780813,\n",
       "       100.3762355 , 101.56550944,  94.38776479,  97.52283982,\n",
       "        90.98253688,  96.80974573,  94.6387127 , 107.9276855 ,\n",
       "        95.5333722 , 107.70736328,  99.60349683,  87.87069112,\n",
       "        99.43825654,  95.42284531, 111.32127522,  94.07962011,\n",
       "       104.21820591, 106.7116248 , 116.9420987 ,  96.32842898,\n",
       "       112.82601203, 109.45289303, 104.92231905,  94.87166742,\n",
       "        89.77365041, 108.06860908, 101.70607703,  99.77776106,\n",
       "        91.96794851,  91.15665664,  75.99359127,  94.94711399,\n",
       "        89.13803539,  99.0916858 ,  85.83421806, 116.12618521])"
      ]
     },
     "execution_count": 32,
     "metadata": {},
     "output_type": "execute_result"
    }
   ],
   "source": [
    "box1"
   ]
  },
  {
   "cell_type": "code",
   "execution_count": 33,
   "id": "23567310-2827-4cf1-9d4b-25aba67df3f2",
   "metadata": {},
   "outputs": [
    {
     "data": {
      "text/plain": [
       "array([ 79.57511278,  77.51517785,  80.59478837,  88.84497208,\n",
       "        92.29719841, 103.70041708,  66.09970652, 106.42344832,\n",
       "        77.51948282,  89.11297894, 100.53108447,  82.37116162,\n",
       "        99.3338216 ,  97.01017989,  79.16550831,  80.46626835,\n",
       "       121.01390288,  78.30293172,  86.77393857, 126.4977643 ,\n",
       "        89.2815347 , 120.05587608, 108.97132464,  80.78511622,\n",
       "        65.73297695,  71.48438084,  96.49480118,  86.02502769,\n",
       "        73.67276853,  54.89038381,  91.60474621,  98.87717294,\n",
       "        63.11545034, 140.98898869,  96.6070358 ,  45.85821981,\n",
       "       106.00008316,  97.19074995,  65.06246424,  61.85287276,\n",
       "        40.02387973, 114.04910846, 125.27276039,  93.72622514,\n",
       "        88.564759  ,  72.45817651, 105.64189034,  89.16956487,\n",
       "        81.81766166, 131.28683972, 104.88221993,  63.38786726,\n",
       "        85.83461912,  78.7235985 , 108.12202304,  51.91032786,\n",
       "        91.62825062,  73.11614308,  84.52179054,  95.38512969,\n",
       "        56.88176025,  88.03098922,  75.69202021, 108.19687989,\n",
       "        62.92777978,  72.29669298, 110.50508635,  79.16941976,\n",
       "        67.45104085,  98.7821075 ,  82.38283292, 116.26876723,\n",
       "       105.76144046,  81.09966541, 104.27939885, 100.28612036,\n",
       "       102.30215682, 125.63070023,  83.00552761, 102.07925455,\n",
       "        97.54129225,  98.56949873,  74.24898901, 133.20356072,\n",
       "        79.13669312, 103.57992901,  80.74613939, 102.97452223,\n",
       "        90.58165956, 105.02676173, 110.31835398,  82.77309328,\n",
       "        95.45509272,  81.880308  , 107.07055798,  86.82009739,\n",
       "        80.66298393,  81.21514936,  99.94014616,  71.88755931,\n",
       "        59.28983535,  85.69721453, 142.43514418,  95.75728327,\n",
       "        90.71972262,  89.2581355 ,  70.16970217, 126.67121135,\n",
       "       124.78415412,  85.92120331,  77.25276316,  88.22797688,\n",
       "        95.21977215,  58.06178676,  78.62496912,  73.47998602,\n",
       "        82.14673404,  91.26908565, 105.82806568,  80.96273233,\n",
       "        97.79476637,  85.98615137,  93.69905205,  81.90423479,\n",
       "        96.22163343,  95.38614985, 100.88957845,  82.40223825,\n",
       "        78.52606972, 111.27715771, 101.59909604,  91.49088917,\n",
       "        85.71131771,  79.91536245,  99.03584876,  87.02926085,\n",
       "       112.25156992,  64.13267824,  85.19766628,  83.9022423 ,\n",
       "       109.17159236, 115.35495723,  91.15934451, 121.37105316,\n",
       "        48.17831933, 102.40660149, 102.80213765,  95.76554219,\n",
       "       108.98568274,  90.1314651 ,  94.58809534, 101.74241221,\n",
       "       106.46060962,  99.59606209, 113.28573704, 103.89676989,\n",
       "       108.95229208, 110.42247427,  92.06845446, 134.77965059,\n",
       "        96.2687954 ,  78.60467055,  88.4724244 , 102.82922126,\n",
       "       108.02108482,  58.88444592,  88.39562823,  62.56791715,\n",
       "       116.40502658, 117.4419342 ,  97.38768504, 106.74023972,\n",
       "        81.15762003,  82.28830058, 102.13122825,  77.23469265,\n",
       "        98.05700694,  96.16392503, 116.44073835, 103.61290386,\n",
       "        81.841098  ,  81.2660358 ,  54.18262625,  58.23639323,\n",
       "       114.72518709, 105.20809784, 101.39536788,  88.79388485,\n",
       "       113.96593385, 111.58236261,  71.23464569, 105.27683293,\n",
       "        40.75549884,  95.73746975,  91.47773656, 106.32535343,\n",
       "       120.19168208,  64.21059765, 120.14239902,  81.75114663])"
      ]
     },
     "execution_count": 33,
     "metadata": {},
     "output_type": "execute_result"
    }
   ],
   "source": [
    "box2"
   ]
  },
  {
   "cell_type": "code",
   "execution_count": 39,
   "id": "0232c583-22bc-4649-8488-a716deb83ce1",
   "metadata": {},
   "outputs": [],
   "source": [
    "c=box1,box2"
   ]
  },
  {
   "cell_type": "code",
   "execution_count": 40,
   "id": "3d3e04f1-bbe7-4be6-b892-2d2562a0629b",
   "metadata": {},
   "outputs": [
    {
     "data": {
      "text/plain": [
       "{'whiskers': [<matplotlib.lines.Line2D at 0x7f24413984c0>,\n",
       "  <matplotlib.lines.Line2D at 0x7f2441398820>,\n",
       "  <matplotlib.lines.Line2D at 0x7f2441399840>,\n",
       "  <matplotlib.lines.Line2D at 0x7f2441399ae0>],\n",
       " 'caps': [<matplotlib.lines.Line2D at 0x7f2441398a00>,\n",
       "  <matplotlib.lines.Line2D at 0x7f2441398d60>,\n",
       "  <matplotlib.lines.Line2D at 0x7f2441399d80>,\n",
       "  <matplotlib.lines.Line2D at 0x7f244139a020>],\n",
       " 'boxes': [<matplotlib.lines.Line2D at 0x7f24413982e0>,\n",
       "  <matplotlib.lines.Line2D at 0x7f2441399570>],\n",
       " 'medians': [<matplotlib.lines.Line2D at 0x7f2441398f40>,\n",
       "  <matplotlib.lines.Line2D at 0x7f244139a2c0>],\n",
       " 'fliers': [<matplotlib.lines.Line2D at 0x7f24413992a0>,\n",
       "  <matplotlib.lines.Line2D at 0x7f244139a560>],\n",
       " 'means': []}"
      ]
     },
     "execution_count": 40,
     "metadata": {},
     "output_type": "execute_result"
    },
    {
     "data": {
      "image/png": "[encoded data removed]",
      "text/plain": [
       "<Figure size 640x480 with 1 Axes>"
      ]
     },
     "metadata": {},
     "output_type": "display_data"
    }
   ],
   "source": [
    "plt.boxplot(c)"
   ]
  },
  {
   "cell_type": "code",
   "execution_count": null,
   "id": "1a6c326e-66a8-4d3c-9520-46118dc75914",
   "metadata": {},
   "outputs": [],
   "source": []
  }
 ],
 "metadata": {
  "kernelspec": {
   "display_name": "Python 3 (ipykernel)",
   "language": "python",
   "name": "python3"
  },
  "language_info": {
   "codemirror_mode": {
    "name": "ipython",
    "version": 3
   },
   "file_extension": ".py",
   "mimetype": "text/x-python",
   "name": "python",
   "nbconvert_exporter": "python",
   "pygments_lexer": "ipython3",
   "version": "3.10.8"
  }
 },
 "nbformat": 4,
 "nbformat_minor": 5
}
